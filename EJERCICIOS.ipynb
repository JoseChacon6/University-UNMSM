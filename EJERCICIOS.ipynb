{
  "nbformat": 4,
  "nbformat_minor": 0,
  "metadata": {
    "colab": {
      "name": "EJERCICIOS.ipynb",
      "provenance": [],
      "include_colab_link": true
    },
    "kernelspec": {
      "name": "python3",
      "display_name": "Python 3"
    }
  },
  "cells": [
    {
      "cell_type": "markdown",
      "metadata": {
        "id": "view-in-github",
        "colab_type": "text"
      },
      "source": [
        "<a href=\"https://colab.research.google.com/github/JoseChacon6/University-UNMSM/blob/master/EJERCICIOS.ipynb\" target=\"_parent\"><img src=\"https://colab.research.google.com/assets/colab-badge.svg\" alt=\"Open In Colab\"/></a>"
      ]
    },
    {
      "cell_type": "markdown",
      "metadata": {
        "id": "5LAUclAzlaAX",
        "colab_type": "text"
      },
      "source": [
        " 1. Crear dos variables numéricas, sumarlas y mostrar el resultado que diga: \"El resultado del problema es: \""
      ]
    },
    {
      "cell_type": "code",
      "metadata": {
        "id": "CeeKpZZElb23",
        "colab_type": "code",
        "colab": {}
      },
      "source": [
        "def sum(a,b):\n",
        "  S = a + b\n",
        "  print(\"El resultado del problema es {}\".format(S))\n",
        "  \n",
        "  "
      ],
      "execution_count": 0,
      "outputs": []
    },
    {
      "cell_type": "code",
      "metadata": {
        "id": "onowE5yBlo-N",
        "colab_type": "code",
        "outputId": "afc4ef6a-08d5-4682-ef7b-b0dfffaf2310",
        "colab": {
          "base_uri": "https://localhost:8080/",
          "height": 35
        }
      },
      "source": [
        "sum(15,20)"
      ],
      "execution_count": 0,
      "outputs": [
        {
          "output_type": "stream",
          "text": [
            "El resultado del problema es 35\n"
          ],
          "name": "stdout"
        }
      ]
    },
    {
      "cell_type": "markdown",
      "metadata": {
        "id": "8myfiTMMmN8W",
        "colab_type": "text"
      },
      "source": [
        "2. Realizar una función que devuelva el IGV de un producto."
      ]
    },
    {
      "cell_type": "code",
      "metadata": {
        "id": "5fCfSVSkmTTU",
        "colab_type": "code",
        "colab": {}
      },
      "source": [
        "def precio(a):\n",
        "  IGV = 0.18 * a\n",
        "  return IGV"
      ],
      "execution_count": 0,
      "outputs": []
    },
    {
      "cell_type": "code",
      "metadata": {
        "id": "tkDn_NKmmb4c",
        "colab_type": "code",
        "outputId": "3bc75ad4-1c1b-4e67-926f-941cefb0c5c8",
        "colab": {
          "base_uri": "https://localhost:8080/",
          "height": 35
        }
      },
      "source": [
        "precio(26)"
      ],
      "execution_count": 0,
      "outputs": [
        {
          "output_type": "execute_result",
          "data": {
            "text/plain": [
              "4.68"
            ]
          },
          "metadata": {
            "tags": []
          },
          "execution_count": 17
        }
      ]
    },
    {
      "cell_type": "markdown",
      "metadata": {
        "id": "oEtkkm_umfJU",
        "colab_type": "text"
      },
      "source": [
        "3. Realizar una función de dos parámetros numéricos que devuelva el número mayor y diga cuál es (usar print)."
      ]
    },
    {
      "cell_type": "code",
      "metadata": {
        "id": "wLcsk_4Km0E_",
        "colab_type": "code",
        "colab": {}
      },
      "source": [
        "def numeros(a,b):\n",
        "  if a > b:\n",
        "    print(a, \"es el numero mayor\")\n",
        "  else:\n",
        "    print(b, \"es el numero mayor\")"
      ],
      "execution_count": 0,
      "outputs": []
    },
    {
      "cell_type": "code",
      "metadata": {
        "id": "agHtm2IOnkk9",
        "colab_type": "code",
        "outputId": "bfb362e4-e587-4816-b7b0-7b6e525d776f",
        "colab": {
          "base_uri": "https://localhost:8080/",
          "height": 35
        }
      },
      "source": [
        "numeros(1,5)"
      ],
      "execution_count": 0,
      "outputs": [
        {
          "output_type": "stream",
          "text": [
            "5 es el numero mayor\n"
          ],
          "name": "stdout"
        }
      ]
    },
    {
      "cell_type": "markdown",
      "metadata": {
        "id": "Y222darsoPxv",
        "colab_type": "text"
      },
      "source": [
        "4. Mostrar los número pares del 1 al 50"
      ]
    },
    {
      "cell_type": "code",
      "metadata": {
        "id": "UGKyQp7locEK",
        "colab_type": "code",
        "colab": {
          "base_uri": "https://localhost:8080/",
          "height": 34
        },
        "outputId": "52b8cc9b-3e60-49db-8ddd-cf8bd03219d3"
      },
      "source": [
        "valor = []\n",
        "for x in range(51):\n",
        "  if x % 2 == 0:\n",
        "    print(x, end= \" \")\n",
        "    "
      ],
      "execution_count": 105,
      "outputs": [
        {
          "output_type": "stream",
          "text": [
            "0 2 4 6 8 10 12 14 16 18 20 22 24 26 28 30 32 34 36 38 40 42 44 46 48 50 "
          ],
          "name": "stdout"
        }
      ]
    },
    {
      "cell_type": "markdown",
      "metadata": {
        "id": "yBIyFzKRqoLJ",
        "colab_type": "text"
      },
      "source": [
        "5. Crea una variable numérica y si esta entre 0 y 10, mostrar un mensaje indicándolo."
      ]
    },
    {
      "cell_type": "code",
      "metadata": {
        "id": "Dj1hrOSWqpFQ",
        "colab_type": "code",
        "colab": {}
      },
      "source": [
        "def numero(a):\n",
        "  if a > 0 and a < 10:\n",
        "    print (a, \"se encuentra entre 0 y 10\")\n",
        "  else:\n",
        "    print (a, \"no esta entre 0 y 10\")"
      ],
      "execution_count": 0,
      "outputs": []
    },
    {
      "cell_type": "code",
      "metadata": {
        "id": "RRkQiW_gshnt",
        "colab_type": "code",
        "outputId": "731f2561-bd6a-4b91-f108-05faae830317",
        "colab": {
          "base_uri": "https://localhost:8080/",
          "height": 35
        }
      },
      "source": [
        "numero(6)"
      ],
      "execution_count": 0,
      "outputs": [
        {
          "output_type": "stream",
          "text": [
            "6 se encuentra entre 0 y 10\n"
          ],
          "name": "stdout"
        }
      ]
    },
    {
      "cell_type": "code",
      "metadata": {
        "id": "hCcskdq1r5Ui",
        "colab_type": "code",
        "colab": {}
      },
      "source": [
        "def numero(a):\n",
        "  if a > 0 and a < 10:\n",
        "    print (\"{} se encuentra entre 0 y 10\".format(a))\n",
        "  else:\n",
        "    print (\"{} no se encuentra entre 0 y 10\".format(a))"
      ],
      "execution_count": 0,
      "outputs": []
    },
    {
      "cell_type": "code",
      "metadata": {
        "id": "WDFAasUWrjrk",
        "colab_type": "code",
        "outputId": "410b527b-3b50-48ea-e44d-e186433be4c8",
        "colab": {
          "base_uri": "https://localhost:8080/",
          "height": 35
        }
      },
      "source": [
        "numero(25)"
      ],
      "execution_count": 0,
      "outputs": [
        {
          "output_type": "stream",
          "text": [
            "25 no se encuentra entre 0 y 10\n"
          ],
          "name": "stdout"
        }
      ]
    },
    {
      "cell_type": "markdown",
      "metadata": {
        "id": "d1cbFzRssgU5",
        "colab_type": "text"
      },
      "source": [
        "1. Crea una variable numérica y si esta entre 0 y 10, mostrar un mensaje indicándolo; de la misma forma si está entre 11 y 20, muestre otro mensaje diferente y si esta entre 21 y 30 otro mensaje."
      ]
    },
    {
      "cell_type": "code",
      "metadata": {
        "id": "WTs6JoT1w2l0",
        "colab_type": "code",
        "colab": {}
      },
      "source": [
        "def num(a):\n",
        "  if a >= 0 and a <= 10:\n",
        "    print(\"{} se encuentra entre 0 y 10\".format(a))\n",
        "  elif a >= 11 and a <=20:\n",
        "    print(\"{} se encuentra entre 11 y 20\".format(a))\n",
        "  elif a >= 21 and a <=30:\n",
        "    print(\"{} se encuentra entre 21 y 30\".format(a))\n",
        "  else:\n",
        "    print(\"{} valor no valido\".format(a))"
      ],
      "execution_count": 0,
      "outputs": []
    },
    {
      "cell_type": "code",
      "metadata": {
        "id": "Ph2_C2aBQBqp",
        "colab_type": "code",
        "colab": {
          "base_uri": "https://localhost:8080/",
          "height": 34
        },
        "outputId": "714346c5-1693-4586-a77e-2e5cb3028e8a"
      },
      "source": [
        "num(21)"
      ],
      "execution_count": 35,
      "outputs": [
        {
          "output_type": "stream",
          "text": [
            "21 se encuentra entre 21 y 30\n"
          ],
          "name": "stdout"
        }
      ]
    },
    {
      "cell_type": "markdown",
      "metadata": {
        "id": "9DlhVwp5QSug",
        "colab_type": "text"
      },
      "source": [
        "2. Mostrar el índice para cada caracter de su nombre. (Usar sentencia for)"
      ]
    },
    {
      "cell_type": "code",
      "metadata": {
        "id": "Z1aZYxlXQI9M",
        "colab_type": "code",
        "colab": {
          "base_uri": "https://localhost:8080/",
          "height": 85
        },
        "outputId": "d280544b-9ad2-46af-bd36-2de2fdc1c41c"
      },
      "source": [
        "nombre = [\"J\" , \"O\" , \"S\" , \"E\" ]\n",
        "for i in range(len(nombre)):\n",
        "  print (\" {}, es indice de {}  \".format([i],nombre[i]) )\n",
        "  \n",
        "  "
      ],
      "execution_count": 115,
      "outputs": [
        {
          "output_type": "stream",
          "text": [
            " [0], es indice de J  \n",
            " [1], es indice de O  \n",
            " [2], es indice de S  \n",
            " [3], es indice de E  \n"
          ],
          "name": "stdout"
        }
      ]
    },
    {
      "cell_type": "markdown",
      "metadata": {
        "id": "wyf1tgNFVCpt",
        "colab_type": "text"
      },
      "source": [
        "3.Realizar una función que tome una lista de palabras y devuelva la mas larga.\n"
      ]
    },
    {
      "cell_type": "code",
      "metadata": {
        "id": "buN-VeKbVCCI",
        "colab_type": "code",
        "colab": {}
      },
      "source": [
        "lista = [\"casa\", \"aprobar\", \"programacion\", \"20\"]\n"
      ],
      "execution_count": 0,
      "outputs": []
    },
    {
      "cell_type": "markdown",
      "metadata": {
        "id": "xxpCXXuzq12v",
        "colab_type": "text"
      },
      "source": [
        "Realizar una función que pida el valor de los tres lados de un triángulo y calcule el valor de su área y perímetro."
      ]
    },
    {
      "cell_type": "code",
      "metadata": {
        "id": "ECn3KdWHpHlK",
        "colab_type": "code",
        "colab": {}
      },
      "source": [
        "def areatriax(a,b,c):\n",
        "  perimetro = a+b+c\n",
        "  s = (a+b+c)/2\n",
        "  area=(s*(s-a)*(s-b)*(s-c))*0.5\n",
        "  return (area, perimetro)"
      ],
      "execution_count": 0,
      "outputs": []
    },
    {
      "cell_type": "code",
      "metadata": {
        "id": "EhJ2OTcfsn1R",
        "colab_type": "code",
        "colab": {
          "base_uri": "https://localhost:8080/",
          "height": 34
        },
        "outputId": "6bec9ffc-7e41-43cd-9a47-b958772ffcdf"
      },
      "source": [
        "areatriax(12,10,20)"
      ],
      "execution_count": 136,
      "outputs": [
        {
          "output_type": "execute_result",
          "data": {
            "text/plain": [
              "(1039.5, 42)"
            ]
          },
          "metadata": {
            "tags": []
          },
          "execution_count": 136
        }
      ]
    },
    {
      "cell_type": "markdown",
      "metadata": {
        "id": "0SF6TM10tZ23",
        "colab_type": "text"
      },
      "source": [
        "Realizar una función que devuelva el factorial de un número, teniendo como parámetro el número"
      ]
    },
    {
      "cell_type": "code",
      "metadata": {
        "id": "CmmwGIrRtZAU",
        "colab_type": "code",
        "colab": {}
      },
      "source": [
        "def factorial(n):\n",
        "  f = 1\n",
        "  for i in range(2,n+1):\n",
        "    f= f*i\n",
        "  return(f)\n",
        "    "
      ],
      "execution_count": 0,
      "outputs": []
    },
    {
      "cell_type": "code",
      "metadata": {
        "id": "gIiB_RBduJoB",
        "colab_type": "code",
        "colab": {
          "base_uri": "https://localhost:8080/",
          "height": 34
        },
        "outputId": "ca9429d0-d1da-4ae3-fb31-c72fd051bc58"
      },
      "source": [
        "factorial(3)"
      ],
      "execution_count": 143,
      "outputs": [
        {
          "output_type": "execute_result",
          "data": {
            "text/plain": [
              "6"
            ]
          },
          "metadata": {
            "tags": []
          },
          "execution_count": 143
        }
      ]
    },
    {
      "cell_type": "markdown",
      "metadata": {
        "id": "S3CB8xxsuxyE",
        "colab_type": "text"
      },
      "source": [
        "Realizar una función que devuelva sucesión Fibonacci, teniendo como parámetro la cantidad de términos"
      ]
    },
    {
      "cell_type": "code",
      "metadata": {
        "id": "I24VT2LFuamc",
        "colab_type": "code",
        "colab": {}
      },
      "source": [
        "def fibo(n):\n",
        "  if n > 2:\n",
        "    return n\n",
        "  else:\n",
        "    return fibo(n-1) + fibo(n-2)"
      ],
      "execution_count": 0,
      "outputs": []
    },
    {
      "cell_type": "code",
      "metadata": {
        "id": "IwjEG-NAvHkT",
        "colab_type": "code",
        "colab": {
          "base_uri": "https://localhost:8080/",
          "height": 34
        },
        "outputId": "5e38fb3d-08fc-415a-f71d-0263c10a4792"
      },
      "source": [
        "print(fibo(5))"
      ],
      "execution_count": 152,
      "outputs": [
        {
          "output_type": "stream",
          "text": [
            "5\n"
          ],
          "name": "stdout"
        }
      ]
    }
  ]
}