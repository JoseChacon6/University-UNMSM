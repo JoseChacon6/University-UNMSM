{
  "nbformat": 4,
  "nbformat_minor": 0,
  "metadata": {
    "colab": {
      "name": "EJERCICIOS.ipynb",
      "provenance": [],
      "include_colab_link": true
    },
    "kernelspec": {
      "name": "python3",
      "display_name": "Python 3"
    }
  },
  "cells": [
    {
      "cell_type": "markdown",
      "metadata": {
        "id": "view-in-github",
        "colab_type": "text"
      },
      "source": [
        "<a href=\"https://colab.research.google.com/github/JoseChacon6/University-UNMSM/blob/master/EJERCICIOS.ipynb\" target=\"_parent\"><img src=\"https://colab.research.google.com/assets/colab-badge.svg\" alt=\"Open In Colab\"/></a>"
      ]
    },
    {
      "cell_type": "markdown",
      "metadata": {
        "id": "5LAUclAzlaAX",
        "colab_type": "text"
      },
      "source": [
        " 1. Crear dos variables numéricas, sumarlas y mostrar el resultado que diga: \"El resultado del problema es: \""
      ]
    },
    {
      "cell_type": "code",
      "metadata": {
        "id": "CeeKpZZElb23",
        "colab_type": "code",
        "colab": {}
      },
      "source": [
        "def sum(a,b):\n",
        "  S = a + b\n",
        "  print(\"El resultado del problema es {}\".format(S))\n",
        "  \n",
        "  "
      ],
      "execution_count": 0,
      "outputs": []
    },
    {
      "cell_type": "code",
      "metadata": {
        "id": "onowE5yBlo-N",
        "colab_type": "code",
        "outputId": "afc4ef6a-08d5-4682-ef7b-b0dfffaf2310",
        "colab": {
          "base_uri": "https://localhost:8080/",
          "height": 35
        }
      },
      "source": [
        "sum(15,20)"
      ],
      "execution_count": 0,
      "outputs": [
        {
          "output_type": "stream",
          "text": [
            "El resultado del problema es 35\n"
          ],
          "name": "stdout"
        }
      ]
    },
    {
      "cell_type": "markdown",
      "metadata": {
        "id": "8myfiTMMmN8W",
        "colab_type": "text"
      },
      "source": [
        "2. Realizar una función que devuelva el IGV de un producto."
      ]
    },
    {
      "cell_type": "code",
      "metadata": {
        "id": "5fCfSVSkmTTU",
        "colab_type": "code",
        "colab": {}
      },
      "source": [
        "def precio(a):\n",
        "  IGV = 0.18 * a\n",
        "  return IGV"
      ],
      "execution_count": 0,
      "outputs": []
    },
    {
      "cell_type": "code",
      "metadata": {
        "id": "tkDn_NKmmb4c",
        "colab_type": "code",
        "outputId": "3bc75ad4-1c1b-4e67-926f-941cefb0c5c8",
        "colab": {
          "base_uri": "https://localhost:8080/",
          "height": 35
        }
      },
      "source": [
        "precio(26)"
      ],
      "execution_count": 0,
      "outputs": [
        {
          "output_type": "execute_result",
          "data": {
            "text/plain": [
              "4.68"
            ]
          },
          "metadata": {
            "tags": []
          },
          "execution_count": 17
        }
      ]
    },
    {
      "cell_type": "markdown",
      "metadata": {
        "id": "oEtkkm_umfJU",
        "colab_type": "text"
      },
      "source": [
        "3. Realizar una función de dos parámetros numéricos que devuelva el número mayor y diga cuál es (usar print)."
      ]
    },
    {
      "cell_type": "code",
      "metadata": {
        "id": "wLcsk_4Km0E_",
        "colab_type": "code",
        "colab": {}
      },
      "source": [
        "def numeros(a,b):\n",
        "  if a > b:\n",
        "    print(a, \"es el numero mayor\")\n",
        "  else:\n",
        "    print(b, \"es el numero mayor\")"
      ],
      "execution_count": 0,
      "outputs": []
    },
    {
      "cell_type": "code",
      "metadata": {
        "id": "agHtm2IOnkk9",
        "colab_type": "code",
        "outputId": "bfb362e4-e587-4816-b7b0-7b6e525d776f",
        "colab": {
          "base_uri": "https://localhost:8080/",
          "height": 35
        }
      },
      "source": [
        "numeros(1,5)"
      ],
      "execution_count": 0,
      "outputs": [
        {
          "output_type": "stream",
          "text": [
            "5 es el numero mayor\n"
          ],
          "name": "stdout"
        }
      ]
    },
    {
      "cell_type": "markdown",
      "metadata": {
        "id": "Y222darsoPxv",
        "colab_type": "text"
      },
      "source": [
        "4. Mostrar los número pares del 1 al 50"
      ]
    },
    {
      "cell_type": "code",
      "metadata": {
        "id": "UGKyQp7locEK",
        "colab_type": "code",
        "colab": {}
      },
      "source": [
        "n = 6\n",
        "def espar(n):\n",
        "  return n"
      ],
      "execution_count": 0,
      "outputs": []
    },
    {
      "cell_type": "markdown",
      "metadata": {
        "id": "yBIyFzKRqoLJ",
        "colab_type": "text"
      },
      "source": [
        "5. Crea una variable numérica y si esta entre 0 y 10, mostrar un mensaje indicándolo."
      ]
    },
    {
      "cell_type": "code",
      "metadata": {
        "id": "Dj1hrOSWqpFQ",
        "colab_type": "code",
        "colab": {}
      },
      "source": [
        "def numero(a):\n",
        "  if a > 0 and a < 10:\n",
        "    print (a, \"se encuentra entre 0 y 10\")\n",
        "  else:\n",
        "    print (a, \"no esta entre 0 y 10\")"
      ],
      "execution_count": 0,
      "outputs": []
    },
    {
      "cell_type": "code",
      "metadata": {
        "id": "RRkQiW_gshnt",
        "colab_type": "code",
        "outputId": "731f2561-bd6a-4b91-f108-05faae830317",
        "colab": {
          "base_uri": "https://localhost:8080/",
          "height": 35
        }
      },
      "source": [
        "numero(6)"
      ],
      "execution_count": 0,
      "outputs": [
        {
          "output_type": "stream",
          "text": [
            "6 se encuentra entre 0 y 10\n"
          ],
          "name": "stdout"
        }
      ]
    },
    {
      "cell_type": "code",
      "metadata": {
        "id": "hCcskdq1r5Ui",
        "colab_type": "code",
        "colab": {}
      },
      "source": [
        "def numero(a):\n",
        "  if a > 0 and a < 10:\n",
        "    print (\"{} se encuentra entre 0 y 10\".format(a))\n",
        "  else:\n",
        "    print (\"{} no se encuentra entre 0 y 10\".format(a))"
      ],
      "execution_count": 0,
      "outputs": []
    },
    {
      "cell_type": "code",
      "metadata": {
        "id": "WDFAasUWrjrk",
        "colab_type": "code",
        "outputId": "410b527b-3b50-48ea-e44d-e186433be4c8",
        "colab": {
          "base_uri": "https://localhost:8080/",
          "height": 35
        }
      },
      "source": [
        "numero(25)"
      ],
      "execution_count": 0,
      "outputs": [
        {
          "output_type": "stream",
          "text": [
            "25 no se encuentra entre 0 y 10\n"
          ],
          "name": "stdout"
        }
      ]
    },
    {
      "cell_type": "markdown",
      "metadata": {
        "id": "d1cbFzRssgU5",
        "colab_type": "text"
      },
      "source": [
        "1. Crea una variable numérica y si esta entre 0 y 10, mostrar un mensaje indicándolo; de la misma forma si está entre 11 y 20, muestre otro mensaje diferente y si esta entre 21 y 30 otro mensaje."
      ]
    },
    {
      "cell_type": "code",
      "metadata": {
        "id": "WTs6JoT1w2l0",
        "colab_type": "code",
        "colab": {}
      },
      "source": [
        "def num(a):\n",
        "  if a >= 0 and a <= 10:\n",
        "    print(\"{} se encuentra entre 0 y 10\".format(a))\n",
        "  elif a >= 11 and a <=20:\n",
        "    print(\"{} se encuentra entre 11 y 20\".format(a))\n",
        "  elif a >= 21 and a <=30:\n",
        "    print(\"{} se encuentra entre 21 y 30\".format(a))\n",
        "  else:\n",
        "    print(\"{} valor no valido\".format(a))"
      ],
      "execution_count": 0,
      "outputs": []
    },
    {
      "cell_type": "code",
      "metadata": {
        "id": "Ph2_C2aBQBqp",
        "colab_type": "code",
        "colab": {
          "base_uri": "https://localhost:8080/",
          "height": 35
        },
        "outputId": "714346c5-1693-4586-a77e-2e5cb3028e8a"
      },
      "source": [
        "num(21)"
      ],
      "execution_count": 35,
      "outputs": [
        {
          "output_type": "stream",
          "text": [
            "21 se encuentra entre 21 y 30\n"
          ],
          "name": "stdout"
        }
      ]
    },
    {
      "cell_type": "markdown",
      "metadata": {
        "id": "9DlhVwp5QSug",
        "colab_type": "text"
      },
      "source": [
        "2. Mostrar el índice para cada caracter de su nombre. (Usar sentencia for)"
      ]
    },
    {
      "cell_type": "code",
      "metadata": {
        "id": "Z1aZYxlXQI9M",
        "colab_type": "code",
        "colab": {
          "base_uri": "https://localhost:8080/",
          "height": 90
        },
        "outputId": "11ed815c-21e3-4ecb-f287-98003237acea"
      },
      "source": [
        "nombre = [\"J\" , \"O\" , \"S\" , \"E\" ]\n",
        "for i in range(len(nombre)):\n",
        "  print(\"{i} es el indice de nombre\")\n",
        "  \n",
        "  "
      ],
      "execution_count": 49,
      "outputs": [
        {
          "output_type": "stream",
          "text": [
            "{i} es el indice de nombre\n",
            "{i} es el indice de nombre\n",
            "{i} es el indice de nombre\n",
            "{i} es el indice de nombre\n"
          ],
          "name": "stdout"
        }
      ]
    },
    {
      "cell_type": "code",
      "metadata": {
        "id": "GBfTF033TZXA",
        "colab_type": "code",
        "colab": {
          "base_uri": "https://localhost:8080/",
          "height": 90
        },
        "outputId": "762c60f9-940f-4332-8344-3ab336d97667"
      },
      "source": [
        "words = [\"J\", \"O\", \"S\", \"E\"]\n",
        "range(len(words))\n",
        "for i in range(len(words)):\n",
        "  print(\"{i} es el indice de \")"
      ],
      "execution_count": 69,
      "outputs": [
        {
          "output_type": "stream",
          "text": [
            "{i} es el indice de \n",
            "{i} es el indice de \n",
            "{i} es el indice de \n",
            "{i} es el indice de \n"
          ],
          "name": "stdout"
        }
      ]
    },
    {
      "cell_type": "markdown",
      "metadata": {
        "id": "wyf1tgNFVCpt",
        "colab_type": "text"
      },
      "source": [
        "3.Realizar una función que tome una lista de palabras y devuelva la mas larga.\n"
      ]
    },
    {
      "cell_type": "code",
      "metadata": {
        "id": "buN-VeKbVCCI",
        "colab_type": "code",
        "colab": {}
      },
      "source": [
        "lista = [\"casa\", \"aprobar\", \"programacion\", \"20\"]\n"
      ],
      "execution_count": 0,
      "outputs": []
    }
  ]
}